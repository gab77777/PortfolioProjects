{
 "cells": [
  {
   "cell_type": "code",
   "execution_count": null,
   "id": "b8ff3c9e",
   "metadata": {},
   "outputs": [],
   "source": [
    "#Import libraries\n",
    "\n",
    "import pandas as pd\n",
    "import seaborn as sns\n",
    "import numpy as np\n",
    "\n",
    "import matplotlib\n",
    "import matplotlib.pyplot as plt\n",
    "plt.style.use('ggplot')\n",
    "from matplotlib.pyplot import figure\n",
    "\n",
    "%matplotlib inline\n",
    "matplotlib.rcParams['figure.figsize'] = (12,8) #Adjusts the config of the plots we will create\n",
    "\n",
    "#Read in the data\n",
    "\n",
    "df = pd.read_csv(r'C:\\Users\\gabri\\Downloads\\archive\\movies.csv')"
   ]
  },
  {
   "cell_type": "code",
   "execution_count": null,
   "id": "7f596301",
   "metadata": {},
   "outputs": [],
   "source": [
    "#Let's look at the data\n",
    "\n",
    "df.head()"
   ]
  },
  {
   "cell_type": "code",
   "execution_count": null,
   "id": "249c5faa",
   "metadata": {},
   "outputs": [],
   "source": [
    "#See if there is any missing data\n",
    "\n",
    "for col in df.columns:\n",
    "    pct_missing = np.mean(df[col].isnull())\n",
    "    print('{} - {}%'.format(col, pct_missing))"
   ]
  },
  {
   "cell_type": "code",
   "execution_count": null,
   "id": "1bd065ff",
   "metadata": {},
   "outputs": [],
   "source": [
    "#Data types for columns\n",
    "\n",
    "df.dtypes"
   ]
  },
  {
   "cell_type": "code",
   "execution_count": null,
   "id": "02ff3df9",
   "metadata": {},
   "outputs": [],
   "source": [
    "df.head()"
   ]
  },
  {
   "cell_type": "code",
   "execution_count": null,
   "id": "78f50c4f",
   "metadata": {},
   "outputs": [],
   "source": [
    "#Create correct year column\n",
    "\n",
    "df['yearcorrect'] = df['released'].astype(str).str[:4]\n"
   ]
  },
  {
   "cell_type": "code",
   "execution_count": null,
   "id": "e97c8765",
   "metadata": {},
   "outputs": [],
   "source": [
    "df.sort_values(by=['gross'], inplace=False, ascending=False)"
   ]
  },
  {
   "cell_type": "code",
   "execution_count": null,
   "id": "7a27f551",
   "metadata": {},
   "outputs": [],
   "source": [
    "pd.set_option('display.max_rows', None)"
   ]
  },
  {
   "cell_type": "code",
   "execution_count": null,
   "id": "c695e2f5",
   "metadata": {},
   "outputs": [],
   "source": [
    "#Drop any duplicates\n",
    "\n",
    "df['company'].drop_duplicates"
   ]
  },
  {
   "cell_type": "code",
   "execution_count": null,
   "id": "83c76d6e",
   "metadata": {},
   "outputs": [],
   "source": []
  }
 ],
 "metadata": {
  "kernelspec": {
   "display_name": "Python 3",
   "language": "python",
   "name": "python3"
  },
  "language_info": {
   "codemirror_mode": {
    "name": "ipython",
    "version": 3
   },
   "file_extension": ".py",
   "mimetype": "text/x-python",
   "name": "python",
   "nbconvert_exporter": "python",
   "pygments_lexer": "ipython3",
   "version": "3.8.8"
  }
 },
 "nbformat": 4,
 "nbformat_minor": 5
}
